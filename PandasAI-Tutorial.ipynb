{
 "cells": [
  {
   "cell_type": "code",
   "execution_count": null,
   "id": "1329e95c",
   "metadata": {},
   "outputs": [],
   "source": [
    "import pandas as pd\n",
    "from pandasai import PandasAI\n",
    "from pandasai.llm.openai import OpenAI\n",
    "\n",
    "df = pd.read_csv(\"supermarket_sales.csv\")\n",
    "df = df[['Gender', 'Product line', 'Total']]\n",
    "\n",
    "OPENAI_API_KEY = \"Enter your OpenAI API key here\"\n",
    "llm = OpenAI(api_token=OPENAI_API_KEY)\n",
    "\n",
    "pandas_ai = PandasAI(llm)"
   ]
  },
  {
   "cell_type": "code",
   "execution_count": null,
   "id": "366eda98",
   "metadata": {},
   "outputs": [],
   "source": [
    "pandas_ai.run(df, prompt=\"Which products are in Product Line\")"
   ]
  },
  {
   "cell_type": "code",
   "execution_count": null,
   "id": "d38df60f",
   "metadata": {},
   "outputs": [],
   "source": [
    "pandas_ai.run(df, prompt=\"Calculate the total spent by each gender\")"
   ]
  },
  {
   "cell_type": "code",
   "execution_count": null,
   "id": "a472e916",
   "metadata": {},
   "outputs": [],
   "source": [
    "pandas_ai.run(df, prompt=\"Plot a barplot that shows the total spent by each gender\")"
   ]
  },
  {
   "cell_type": "code",
   "execution_count": null,
   "id": "7146d6df",
   "metadata": {},
   "outputs": [],
   "source": [
    "pandas_ai.run(df, \n",
    "              prompt=\"Calculate the total spent on each product line by both the male and female gender\")"
   ]
  },
  {
   "cell_type": "code",
   "execution_count": null,
   "id": "d01e274e",
   "metadata": {},
   "outputs": [],
   "source": [
    "pivot_table = df.pivot_table(index='Gender',\n",
    "                             columns='Product line',\n",
    "                             values='Total',\n",
    "                             aggfunc='sum').round(0)\n",
    "\n",
    "pivot_table"
   ]
  },
  {
   "cell_type": "code",
   "execution_count": null,
   "id": "d9865fbf",
   "metadata": {},
   "outputs": [],
   "source": [
    "pandas_ai.run(pivot_table, prompt=\"Make a barplot that shows how much money each gender spends on each product line\")"
   ]
  }
 ],
 "metadata": {
  "kernelspec": {
   "display_name": "cuda-gpt",
   "language": "python",
   "name": "cuda"
  },
  "language_info": {
   "codemirror_mode": {
    "name": "ipython",
    "version": 3
   },
   "file_extension": ".py",
   "mimetype": "text/x-python",
   "name": "python",
   "nbconvert_exporter": "python",
   "pygments_lexer": "ipython3",
   "version": "3.9.19"
  },
  "toc": {
   "base_numbering": 1,
   "nav_menu": {},
   "number_sections": true,
   "sideBar": true,
   "skip_h1_title": false,
   "title_cell": "Table of Contents",
   "title_sidebar": "Contents",
   "toc_cell": false,
   "toc_position": {},
   "toc_section_display": true,
   "toc_window_display": false
  }
 },
 "nbformat": 4,
 "nbformat_minor": 5
}
